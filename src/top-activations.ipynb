{
 "cells": [
  {
   "cell_type": "code",
   "execution_count": 17,
   "metadata": {},
   "outputs": [],
   "source": [
    "import os \n",
    "import math\n",
    "\n",
    "conv_layers = range(1, 6)\n",
    "\n",
    "top_n_per = .2\n",
    "for layer in conv_layers:\n",
    "    in_filename = 'val_avg_conv{}_activations.txt'.format(layer);\n",
    "    out_filename = 'val_avg_conv{}_ones_activations.txt'.format(layer);\n",
    "    with open(in_filename, 'r') as in_f, open(out_filename, 'w') as out_f:\n",
    "        for line in in_f:\n",
    "            line = line.split(' ')\n",
    "            fname = line[0]\n",
    "            nums = [float(num) for num in line[1:]]\n",
    "            num_units = max(1, int(round(top_n_per*len(nums))))\n",
    "            idx =  sorted(range(len(nums)), key=lambda i: nums[i], reverse=True)[:num_units]\n",
    "            new_nums = [1.0 if i in idx else 0.0 for i in range(len(nums))]\n",
    "            out_f.write('{} {}\\n'.format(fname, ' '.join([str(num) for num in new_nums])))\n",
    "            "
   ]
  },
  {
   "cell_type": "code",
   "execution_count": null,
   "metadata": {},
   "outputs": [],
   "source": []
  }
 ],
 "metadata": {
  "kernelspec": {
   "display_name": "Python 2",
   "language": "python",
   "name": "python2"
  },
  "language_info": {
   "codemirror_mode": {
    "name": "ipython",
    "version": 2
   },
   "file_extension": ".py",
   "mimetype": "text/x-python",
   "name": "python",
   "nbconvert_exporter": "python",
   "pygments_lexer": "ipython2",
   "version": "2.7.12"
  }
 },
 "nbformat": 4,
 "nbformat_minor": 2
}
